{
 "cells": [
  {
   "cell_type": "code",
   "execution_count": 1,
   "metadata": {
    "collapsed": true
   },
   "outputs": [],
   "source": [
    "import numpy as np\n",
    "from numpy import linalg as la"
   ]
  },
  {
   "cell_type": "code",
   "execution_count": 7,
   "metadata": {
    "collapsed": false
   },
   "outputs": [
    {
     "name": "stdout",
     "output_type": "stream",
     "text": [
      "[[1 2 1 1 1 0 0 0]\n",
      " [2 3 5 6 4 5 3 2]\n",
      " [1 2 3 8 1 2 1 1]\n",
      " [1 0 0 0 2 3 5 6]\n",
      " [4 5 3 2 1 2 3 8]]\n"
     ]
    }
   ],
   "source": [
    "x0 = np.array([1,2,1,1,1,0,0,0,2,3,5,6,4,5,3,2,1,2,3,8,1,2,1,1,1,0,0,0,2,3,5,6,4,5,3,2,1,2,3,8]).reshape([-1,8])\n",
    "print (x0)"
   ]
  },
  {
   "cell_type": "code",
   "execution_count": 9,
   "metadata": {
    "collapsed": false
   },
   "outputs": [
    {
     "name": "stdout",
     "output_type": "stream",
     "text": [
      "[1 2 1 1 1 0 0 0]\n"
     ]
    }
   ],
   "source": [
    "print(x0[0]) #row"
   ]
  },
  {
   "cell_type": "code",
   "execution_count": 10,
   "metadata": {
    "collapsed": false
   },
   "outputs": [
    {
     "name": "stdout",
     "output_type": "stream",
     "text": [
      "[1 2 1 1 4]\n"
     ]
    }
   ],
   "source": [
    "print(x0[:,0]) #column"
   ]
  },
  {
   "cell_type": "code",
   "execution_count": 11,
   "metadata": {
    "collapsed": false
   },
   "outputs": [
    {
     "name": "stdout",
     "output_type": "stream",
     "text": [
      "[1 2 1 1 4]\n"
     ]
    }
   ],
   "source": [
    "print(x0.T[0]) #column"
   ]
  },
  {
   "cell_type": "code",
   "execution_count": 16,
   "metadata": {
    "collapsed": false
   },
   "outputs": [
    {
     "name": "stdout",
     "output_type": "stream",
     "text": [
      "rows: 5\n",
      "columns: 8\n",
      "5x8 matrix\n"
     ]
    }
   ],
   "source": [
    "num_rows = (len(x0))\n",
    "print(\"rows: \" + str(num_rows))\n",
    "num_columns = (len(x0[0]))\n",
    "print(\"columns: \" + str(num_columns) )\n",
    "print(str(num_rows)+\"x\"+str(num_columns)+\" matrix\")"
   ]
  },
  {
   "cell_type": "code",
   "execution_count": 35,
   "metadata": {
    "collapsed": false
   },
   "outputs": [
    {
     "name": "stdout",
     "output_type": "stream",
     "text": [
      "[[1 2]\n",
      " [2 3]]\n"
     ]
    }
   ],
   "source": [
    "x1 = np.array([[x0[0][0], x0[0][1]],[x0[1][0], x0[1][1]]]) # 'bigram'\n",
    "print(x1)"
   ]
  },
  {
   "cell_type": "code",
   "execution_count": 39,
   "metadata": {
    "collapsed": false
   },
   "outputs": [
    {
     "name": "stdout",
     "output_type": "stream",
     "text": [
      "[[1 2]\n",
      " [2 3]]\n",
      "------\n",
      "[[2 3]\n",
      " [1 2]]\n",
      "------\n",
      "[[1 2]\n",
      " [1 0]]\n",
      "------\n",
      "[[1 0]\n",
      " [4 5]]\n",
      "------\n"
     ]
    }
   ],
   "source": [
    "for i in range(0, num_rows-1):\n",
    "    tempx = np.array([[x0[i][0],x0[i][1]],[x0[i+1][0],x0[i+1][1]]])\n",
    "    print(tempx)\n",
    "    print(\"------\")\n",
    "       "
   ]
  },
  {
   "cell_type": "code",
   "execution_count": null,
   "metadata": {
    "collapsed": true
   },
   "outputs": [],
   "source": []
  }
 ],
 "metadata": {
  "kernelspec": {
   "display_name": "Python 2",
   "language": "python",
   "name": "python2"
  },
  "language_info": {
   "codemirror_mode": {
    "name": "ipython",
    "version": 2
   },
   "file_extension": ".py",
   "mimetype": "text/x-python",
   "name": "python",
   "nbconvert_exporter": "python",
   "pygments_lexer": "ipython2",
   "version": "2.7.11"
  }
 },
 "nbformat": 4,
 "nbformat_minor": 0
}
