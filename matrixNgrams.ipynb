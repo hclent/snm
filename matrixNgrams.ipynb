{
 "cells": [
  {
   "cell_type": "code",
   "execution_count": 1,
   "metadata": {
    "collapsed": true
   },
   "outputs": [],
   "source": [
    "import numpy as np"
   ]
  },
  {
   "cell_type": "code",
   "execution_count": 2,
   "metadata": {
    "collapsed": false
   },
   "outputs": [
    {
     "name": "stdout",
     "output_type": "stream",
     "text": [
      "[[0 5 0 3 6 8 1 0 5 7 0 8 5]\n",
      " [3 6 5 0 6 7 7 1 6 2 2 2 2]\n",
      " [2 2 5 6 4 2 7 1 8 8 6 8 1]\n",
      " [6 3 7 4 4 3 1 4 5 6 0 3 4]\n",
      " [6 6 0 8 7 3 4 1 3 8 4 2 3]\n",
      " [1 5 2 4 2 7 1 0 5 5 4 2 3]\n",
      " [4 4 7 3 3 2 5 3 0 0 8 1 7]\n",
      " [3 4 0 1 1 7 2 4 0 8 6 2 6]\n",
      " [7 5 8 1 4 8 3 2 7 4 7 0 6]\n",
      " [1 8 4 4 6 0 5 3 2 0 2 4 1]\n",
      " [4 3 6 7 4 2 3 8 2 8 8 2 0]\n",
      " [5 7 5 6 4 3 0 6 5 5 7 6 4]]\n"
     ]
    }
   ],
   "source": [
    "x0 = np.random.randint(9, size=(12, 13))\n",
    "print(x0)"
   ]
  },
  {
   "cell_type": "code",
   "execution_count": 3,
   "metadata": {
    "collapsed": false
   },
   "outputs": [
    {
     "name": "stdout",
     "output_type": "stream",
     "text": [
      "[0 5 0 3 6 8 1 0 5 7 0 8 5]\n"
     ]
    }
   ],
   "source": [
    "print(x0[0]) #row"
   ]
  },
  {
   "cell_type": "code",
   "execution_count": 4,
   "metadata": {
    "collapsed": false
   },
   "outputs": [
    {
     "name": "stdout",
     "output_type": "stream",
     "text": [
      "[0 3 2 6 6 1 4 3 7 1 4 5]\n",
      "[0 3 2 6 6 1 4 3 7 1 4 5]\n"
     ]
    }
   ],
   "source": [
    "print(x0[:,0]) #column\n",
    "print(x0.T[0]) #column"
   ]
  },
  {
   "cell_type": "code",
   "execution_count": 5,
   "metadata": {
    "collapsed": false
   },
   "outputs": [
    {
     "name": "stdout",
     "output_type": "stream",
     "text": [
      "x0 is a 12x13 matrix\n"
     ]
    }
   ],
   "source": [
    "num_rows = (len(x0))\n",
    "num_columns = (len(x0[0]))\n",
    "print(\"x0 is a \"+str(num_rows)+\"x\"+str(num_columns)+\" matrix\")"
   ]
  },
  {
   "cell_type": "code",
   "execution_count": 6,
   "metadata": {
    "collapsed": false
   },
   "outputs": [
    {
     "name": "stdout",
     "output_type": "stream",
     "text": [
      "[[0 5]\n",
      " [3 6]]\n"
     ]
    }
   ],
   "source": [
    "x1 = np.array([[x0[0][0], x0[0][1]],[x0[1][0], x0[1][1]]]) # 'bigram'\n",
    "print(x1)"
   ]
  },
  {
   "cell_type": "code",
   "execution_count": 7,
   "metadata": {
    "collapsed": false
   },
   "outputs": [
    {
     "name": "stdout",
     "output_type": "stream",
     "text": [
      "[[0 5 0 3 6 8 1 0 5 7 0 8 5]\n",
      " [3 6 5 0 6 7 7 1 6 2 2 2 2]\n",
      " [2 2 5 6 4 2 7 1 8 8 6 8 1]\n",
      " [6 3 7 4 4 3 1 4 5 6 0 3 4]\n",
      " [6 6 0 8 7 3 4 1 3 8 4 2 3]\n",
      " [1 5 2 4 2 7 1 0 5 5 4 2 3]\n",
      " [4 4 7 3 3 2 5 3 0 0 8 1 7]\n",
      " [3 4 0 1 1 7 2 4 0 8 6 2 6]\n",
      " [7 5 8 1 4 8 3 2 7 4 7 0 6]\n",
      " [1 8 4 4 6 0 5 3 2 0 2 4 1]\n",
      " [4 3 6 7 4 2 3 8 2 8 8 2 0]\n",
      " [5 7 5 6 4 3 0 6 5 5 7 6 4]]\n",
      "12x13 matrix\n",
      "Row 0\n",
      "[[0 5 0 3]\n",
      " [3 6 5 0]\n",
      " [2 2 5 6]\n",
      " [6 3 7 4]]\n",
      "-------------\n",
      "Row 1\n",
      "[[3 6 5 0]\n",
      " [2 2 5 6]\n",
      " [6 3 7 4]\n",
      " [6 6 0 8]]\n",
      "-------------\n",
      "Row 2\n",
      "[[2 2 5 6]\n",
      " [6 3 7 4]\n",
      " [6 6 0 8]\n",
      " [1 5 2 4]]\n",
      "-------------\n",
      "Row 3\n",
      "[[6 3 7 4]\n",
      " [6 6 0 8]\n",
      " [1 5 2 4]\n",
      " [4 4 7 3]]\n",
      "-------------\n",
      "Row 4\n",
      "[[6 6 0 8]\n",
      " [1 5 2 4]\n",
      " [4 4 7 3]\n",
      " [3 4 0 1]]\n",
      "-------------\n",
      "Row 5\n",
      "[[1 5 2 4]\n",
      " [4 4 7 3]\n",
      " [3 4 0 1]\n",
      " [7 5 8 1]]\n",
      "-------------\n",
      "Row 6\n",
      "[[4 4 7 3]\n",
      " [3 4 0 1]\n",
      " [7 5 8 1]\n",
      " [1 8 4 4]]\n",
      "-------------\n",
      "Row 7\n",
      "[[3 4 0 1]\n",
      " [7 5 8 1]\n",
      " [1 8 4 4]\n",
      " [4 3 6 7]]\n",
      "-------------\n",
      "Row 8\n",
      "[[7 5 8 1]\n",
      " [1 8 4 4]\n",
      " [4 3 6 7]\n",
      " [5 7 5 6]]\n",
      "-------------\n",
      "Row 9\n",
      "not enough rows to compute\n",
      "Row 10\n",
      "not enough rows to compute\n",
      "Row 11\n",
      "not enough rows to compute\n"
     ]
    }
   ],
   "source": [
    "'''Moves down the matrix from upper left corner'''\n",
    "\n",
    "def matrixNgram(matrix, n):\n",
    "    num_rows = (len(matrix))\n",
    "    num_columns = (len(matrix[0]))\n",
    "    print(str(num_rows)+\"x\"+str(num_columns)+\" matrix\")\n",
    "    for i in range(0, num_rows):\n",
    "        print(\"Row \" + str(i))\n",
    "        temp_list_of_rows = []\n",
    "        \n",
    "        gram_rows = np.array(matrix[i:(i+n)]) #make matricies with sliding window of 3 rows\n",
    "        if len(gram_rows) == n:\n",
    "#             print(gram_rows)\n",
    "#             print(\"------\")\n",
    "\n",
    "            for j in range(0, n): #shorten num of gram_row columns to n, \n",
    "                temp_row = gram_rows[j][:n]\n",
    "                temp_list_of_rows.append(temp_row)\n",
    "                \n",
    "            gram = np.array(temp_list_of_rows)\n",
    "            print(gram)\n",
    "            print(\"-------------\")\n",
    "        if len(gram_rows) < n:\n",
    "            print(\"not enough rows to compute\")\n",
    "\n",
    "            \n",
    "\n",
    "print(x0)\n",
    "matrixNgram(x0, 4)    "
   ]
  },
  {
   "cell_type": "code",
   "execution_count": 8,
   "metadata": {
    "collapsed": false
   },
   "outputs": [
    {
     "name": "stdout",
     "output_type": "stream",
     "text": [
      "[[0 5 0 3 6 8 1 0 5 7 0 8 5]\n",
      " [3 6 5 0 6 7 7 1 6 2 2 2 2]\n",
      " [2 2 5 6 4 2 7 1 8 8 6 8 1]\n",
      " [6 3 7 4 4 3 1 4 5 6 0 3 4]\n",
      " [6 6 0 8 7 3 4 1 3 8 4 2 3]\n",
      " [1 5 2 4 2 7 1 0 5 5 4 2 3]\n",
      " [4 4 7 3 3 2 5 3 0 0 8 1 7]\n",
      " [3 4 0 1 1 7 2 4 0 8 6 2 6]\n",
      " [7 5 8 1 4 8 3 2 7 4 7 0 6]\n",
      " [1 8 4 4 6 0 5 3 2 0 2 4 1]\n",
      " [4 3 6 7 4 2 3 8 2 8 8 2 0]\n",
      " [5 7 5 6 4 3 0 6 5 5 7 6 4]]\n",
      "12x13 matrix\n",
      "Row 0\n",
      "[[0 5 0 3]\n",
      " [3 6 5 0]\n",
      " [2 2 5 6]\n",
      " [6 3 7 4]]\n",
      "-------------\n",
      "Row 1\n",
      "[[6 5 0 6]\n",
      " [2 5 6 4]\n",
      " [3 7 4 4]\n",
      " [6 0 8 7]]\n",
      "-------------\n",
      "Row 2\n",
      "[[5 6 4 2]\n",
      " [7 4 4 3]\n",
      " [0 8 7 3]\n",
      " [2 4 2 7]]\n",
      "-------------\n",
      "Row 3\n",
      "[[4 4 3 1]\n",
      " [8 7 3 4]\n",
      " [4 2 7 1]\n",
      " [3 3 2 5]]\n",
      "-------------\n",
      "Row 4\n",
      "[[7 3 4 1]\n",
      " [2 7 1 0]\n",
      " [3 2 5 3]\n",
      " [1 7 2 4]]\n",
      "-------------\n",
      "Row 5\n",
      "[[7 1 0 5]\n",
      " [2 5 3 0]\n",
      " [7 2 4 0]\n",
      " [8 3 2 7]]\n",
      "-------------\n",
      "Row 6\n",
      "[[5 3 0 0]\n",
      " [2 4 0 8]\n",
      " [3 2 7 4]\n",
      " [5 3 2 0]]\n",
      "-------------\n",
      "Row 7\n",
      "[[4 0 8 6]\n",
      " [2 7 4 7]\n",
      " [3 2 0 2]\n",
      " [8 2 8 8]]\n",
      "-------------\n",
      "Row 8\n",
      "[[7 4 7 0]\n",
      " [2 0 2 4]\n",
      " [2 8 8 2]\n",
      " [5 5 7 6]]\n",
      "-------------\n",
      "Row 9\n",
      "not enough rows to compute\n",
      "Row 10\n",
      "not enough rows to compute\n",
      "Row 11\n",
      "not enough rows to compute\n"
     ]
    }
   ],
   "source": [
    "'''Moves diagonally accross the matrix'''\n",
    "\n",
    "def matrixNgram2(matrix, n):\n",
    "    num_rows = (len(matrix))\n",
    "    num_columns = (len(matrix[0]))\n",
    "    print(str(num_rows)+\"x\"+str(num_columns)+\" matrix\")\n",
    "    \n",
    "\n",
    "    c = 0\n",
    "    for i in range(0, num_rows):\n",
    "        print(\"Row \" + str(i))\n",
    "        start_nw = []\n",
    "        \n",
    "        west_rows = np.array(matrix[i:(i+n)]) #make running matricies with sliding window of n rows\n",
    "        if len(west_rows) == n:\n",
    "#             print(west_rows)\n",
    "#             print(\"------\")\n",
    "\n",
    "            for j in range(0, n): #shorten num of gram_row columns to\n",
    "                \n",
    "#                 if n+c > num_columns:\n",
    "#                     print(\"ran out of columns\")\n",
    "                    \n",
    "                temp_row = west_rows[j][c:n+c] #shift columns over each time to move diagonal, with n-gram window\n",
    "                start_nw.append(temp_row)\n",
    "                \n",
    "            start_gram = np.array(start_nw)\n",
    "            print(start_gram)\n",
    "            print(\"-------------\")\n",
    "        if len(west_rows) < n:\n",
    "            print(\"not enough rows to compute\")\n",
    "        \n",
    "        c +=1\n",
    "\n",
    "print(x0)\n",
    "matrixNgram2(x0, 4)"
   ]
  },
  {
   "cell_type": "code",
   "execution_count": null,
   "metadata": {
    "collapsed": true
   },
   "outputs": [],
   "source": []
  }
 ],
 "metadata": {
  "kernelspec": {
   "display_name": "Python 2",
   "language": "python",
   "name": "python2"
  },
  "language_info": {
   "codemirror_mode": {
    "name": "ipython",
    "version": 2
   },
   "file_extension": ".py",
   "mimetype": "text/x-python",
   "name": "python",
   "nbconvert_exporter": "python",
   "pygments_lexer": "ipython2",
   "version": "2.7.11"
  }
 },
 "nbformat": 4,
 "nbformat_minor": 0
}
